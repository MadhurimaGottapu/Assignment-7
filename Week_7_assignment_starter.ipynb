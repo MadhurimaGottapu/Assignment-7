{
 "cells": [
  {
   "cell_type": "markdown",
   "id": "73fa2b84",
   "metadata": {},
   "source": [
    "# Week 7 Assignment"
   ]
  },
  {
   "cell_type": "markdown",
   "id": "f48ee1c5",
   "metadata": {},
   "source": [
    "This week we are collecting some data from Reddit and doing some basic EDA on it. You should:\n",
    "\n",
    "- create your Reddit account and API keys\n",
    "- collect data from a subreddit of your choice\n",
    "    - at a minimum, collect the posts from the subreddit; optionally collect comments on the posts\n",
    "- save the data to a SQLite3 database\n",
    "- perform some basic EDA on the data\n",
    "    - create at least 2 plots\n",
    "- write a short analysis at the end describing the process and results\n",
    "- turn in the Jupyter Notebook and PDF printout or export to the week 7 dropbox\n",
    "\n",
    "***Optional* advanced section**\n",
    "- Practice SQL queries and select a subsection of the posts you collected\n",
    "- Modify your code to collect data beyond the 1000 item limit\n",
    "- Collect comments from the posts for analysis next week and do some EDA on the comments (e.g. who is the top commenter, which commenters have the most up and down votes or most controversial posts, etc)\n",
    "- examine n-grams ([bigrams](https://stackoverflow.com/a/37651184/4549682), trigrams) or [collocations](https://www.geeksforgeeks.org/nlp-word-collocations/)\n",
    "\n",
    "Note: There is no solution file for this week."
   ]
  },
  {
   "cell_type": "code",
   "execution_count": 1,
   "id": "7c87d583",
   "metadata": {},
   "outputs": [],
   "source": [
    "import praw\n",
    "import pandas as pd\n",
    "import credentials\n",
    "import matplotlib.pyplot as plt\n"
   ]
  },
  {
   "cell_type": "markdown",
   "id": "75d08bab",
   "metadata": {},
   "source": [
    "### Created a Reddit account"
   ]
  },
  {
   "cell_type": "code",
   "execution_count": 2,
   "id": "78a1420a",
   "metadata": {},
   "outputs": [],
   "source": [
    "reddit = praw.Reddit(client_id=credentials.client_id,\n",
    "                     client_secret=credentials.client_secret,\n",
    "                     user_agent=credentials.user_agent)"
   ]
  },
  {
   "cell_type": "markdown",
   "id": "810042d0",
   "metadata": {},
   "source": [
    "This code initializes a Reddit instance using the PRAW library, providing client credentials (ID and secret) and a user agent. It enables access to Reddit's API for tasks such as retrieving data, posting content, or interacting with the platform programmatically."
   ]
  },
  {
   "cell_type": "markdown",
   "id": "59dad487",
   "metadata": {},
   "source": [
    "### Collecting data from a subreddit"
   ]
  },
  {
   "cell_type": "code",
   "execution_count": 3,
   "id": "8eaea332",
   "metadata": {},
   "outputs": [],
   "source": [
    "co_subreddit = reddit.subreddit('wildlife').hot(limit=10)"
   ]
  },
  {
   "cell_type": "code",
   "execution_count": 4,
   "id": "22511beb",
   "metadata": {
    "scrolled": true
   },
   "outputs": [
    {
     "name": "stdout",
     "output_type": "stream",
     "text": [
      "Critically endangered Right Whales are shrinking, with drastic consequences for their population 14\n",
      "Death toll rises to seven in Malawi elephant relocation project linked to Prince Harry NGO 7\n",
      "The Romance at Navajo Bridge - Two Critically Endangered Condors Fight to Save Their Species 8\n",
      "Capturing the Beauty of Wildlife: Sleeping Polar Bear on Iceberg Wins Wildlife Photography Award 10\n",
      "India snow leopards: First-ever survey puts population at 718 20\n",
      "They are few. They are fat. They are Western Wyoming’s deer. 11\n",
      "How does one species become many? 7\n",
      "The animal sounds in most nature documentaries are made by humans – here's how they do it and why it matters 10\n",
      "Australian wildlife show off puzzle skills as animal researchers investigate problem-solving 8\n",
      "Colorado cuts April hunting season, electronic lures after 198 mountain lions were killed in a month 69\n"
     ]
    }
   ],
   "source": [
    "for post in co_subreddit:\n",
    "    print(post.title, post.score)"
   ]
  },
  {
   "cell_type": "code",
   "execution_count": 5,
   "id": "fee88e5d",
   "metadata": {},
   "outputs": [],
   "source": [
    "reddit_data = {'title': [],\n",
    "              'link': [],\n",
    "              'author': [],\n",
    "              'n_comments': [],\n",
    "              'score': [],\n",
    "              'text': []}\n",
    "\n",
    "\n",
    "co_subreddit = reddit.subreddit('wildlife').hot(limit=None)\n",
    "\n",
    "for post in list(co_subreddit):\n",
    "    reddit_data['title'].append(post.title)\n",
    "    reddit_data['link'].append(post.permalink)\n",
    "    if post.author is None:\n",
    "        reddit_data['author'].append('')\n",
    "    else:\n",
    "        reddit_data['author'].append(post.author.name)\n",
    "    \n",
    "    reddit_data['n_comments'].append(post.num_comments)\n",
    "    reddit_data['score'].append(post.score)\n",
    "    reddit_data['text'].append(post.selftext)"
   ]
  },
  {
   "cell_type": "code",
   "execution_count": 6,
   "id": "5a1d59b6",
   "metadata": {},
   "outputs": [],
   "source": [
    "co_df = pd.DataFrame(reddit_data)"
   ]
  },
  {
   "cell_type": "code",
   "execution_count": 7,
   "id": "26cf57e4",
   "metadata": {},
   "outputs": [
    {
     "data": {
      "text/html": [
       "<div>\n",
       "<style scoped>\n",
       "    .dataframe tbody tr th:only-of-type {\n",
       "        vertical-align: middle;\n",
       "    }\n",
       "\n",
       "    .dataframe tbody tr th {\n",
       "        vertical-align: top;\n",
       "    }\n",
       "\n",
       "    .dataframe thead th {\n",
       "        text-align: right;\n",
       "    }\n",
       "</style>\n",
       "<table border=\"1\" class=\"dataframe\">\n",
       "  <thead>\n",
       "    <tr style=\"text-align: right;\">\n",
       "      <th></th>\n",
       "      <th>title</th>\n",
       "      <th>link</th>\n",
       "      <th>author</th>\n",
       "      <th>n_comments</th>\n",
       "      <th>score</th>\n",
       "      <th>text</th>\n",
       "    </tr>\n",
       "  </thead>\n",
       "  <tbody>\n",
       "    <tr>\n",
       "      <th>0</th>\n",
       "      <td>Critically endangered Right Whales are shrinki...</td>\n",
       "      <td>/r/Wildlife/comments/1b2u5rb/critically_endang...</td>\n",
       "      <td>OpenEnded4802</td>\n",
       "      <td>2</td>\n",
       "      <td>12</td>\n",
       "      <td></td>\n",
       "    </tr>\n",
       "    <tr>\n",
       "      <th>1</th>\n",
       "      <td>Death toll rises to seven in Malawi elephant r...</td>\n",
       "      <td>/r/Wildlife/comments/1asa66q/death_toll_rises_...</td>\n",
       "      <td>n1ght_w1ng08</td>\n",
       "      <td>0</td>\n",
       "      <td>6</td>\n",
       "      <td></td>\n",
       "    </tr>\n",
       "    <tr>\n",
       "      <th>2</th>\n",
       "      <td>The Romance at Navajo Bridge - Two Critically ...</td>\n",
       "      <td>/r/Wildlife/comments/1ap2h69/the_romance_at_na...</td>\n",
       "      <td>KUHL_Clothing</td>\n",
       "      <td>1</td>\n",
       "      <td>10</td>\n",
       "      <td></td>\n",
       "    </tr>\n",
       "    <tr>\n",
       "      <th>3</th>\n",
       "      <td>Capturing the Beauty of Wildlife: Sleeping Pol...</td>\n",
       "      <td>/r/Wildlife/comments/1almxqq/capturing_the_bea...</td>\n",
       "      <td>Damanjain</td>\n",
       "      <td>0</td>\n",
       "      <td>10</td>\n",
       "      <td></td>\n",
       "    </tr>\n",
       "    <tr>\n",
       "      <th>4</th>\n",
       "      <td>India snow leopards: First-ever survey puts po...</td>\n",
       "      <td>/r/Wildlife/comments/1afgfry/india_snow_leopar...</td>\n",
       "      <td>n1ght_w1ng08</td>\n",
       "      <td>1</td>\n",
       "      <td>20</td>\n",
       "      <td></td>\n",
       "    </tr>\n",
       "    <tr>\n",
       "      <th>...</th>\n",
       "      <td>...</td>\n",
       "      <td>...</td>\n",
       "      <td>...</td>\n",
       "      <td>...</td>\n",
       "      <td>...</td>\n",
       "      <td>...</td>\n",
       "    </tr>\n",
       "    <tr>\n",
       "      <th>240</th>\n",
       "      <td>Sprinklers to cool Victoria’s largest permanen...</td>\n",
       "      <td>/r/Wildlife/comments/w7ju86/sprinklers_to_cool...</td>\n",
       "      <td>bigbongtheory69</td>\n",
       "      <td>1</td>\n",
       "      <td>43</td>\n",
       "      <td></td>\n",
       "    </tr>\n",
       "    <tr>\n",
       "      <th>241</th>\n",
       "      <td>Wild tiger numbers 40% higher than thought, sa...</td>\n",
       "      <td>/r/Wildlife/comments/w55cyt/wild_tiger_numbers...</td>\n",
       "      <td>bigbongtheory69</td>\n",
       "      <td>2</td>\n",
       "      <td>148</td>\n",
       "      <td></td>\n",
       "    </tr>\n",
       "    <tr>\n",
       "      <th>242</th>\n",
       "      <td>Global Tiger Numbers 40 Percent Higher Than Pr...</td>\n",
       "      <td>/r/Wildlife/comments/w5gg4e/global_tiger_numbe...</td>\n",
       "      <td>YaleE360</td>\n",
       "      <td>3</td>\n",
       "      <td>20</td>\n",
       "      <td></td>\n",
       "    </tr>\n",
       "    <tr>\n",
       "      <th>243</th>\n",
       "      <td>Five wolf pups photographed in Oregon could re...</td>\n",
       "      <td>/r/Wildlife/comments/w592lf/five_wolf_pups_pho...</td>\n",
       "      <td>zsreport</td>\n",
       "      <td>0</td>\n",
       "      <td>4</td>\n",
       "      <td></td>\n",
       "    </tr>\n",
       "    <tr>\n",
       "      <th>244</th>\n",
       "      <td>Montana governor kills mountain lion being mon...</td>\n",
       "      <td>/r/Wildlife/comments/t5eho5/montana_governor_k...</td>\n",
       "      <td>zsreport</td>\n",
       "      <td>121</td>\n",
       "      <td>332</td>\n",
       "      <td></td>\n",
       "    </tr>\n",
       "  </tbody>\n",
       "</table>\n",
       "<p>245 rows × 6 columns</p>\n",
       "</div>"
      ],
      "text/plain": [
       "                                                 title  \\\n",
       "0    Critically endangered Right Whales are shrinki...   \n",
       "1    Death toll rises to seven in Malawi elephant r...   \n",
       "2    The Romance at Navajo Bridge - Two Critically ...   \n",
       "3    Capturing the Beauty of Wildlife: Sleeping Pol...   \n",
       "4    India snow leopards: First-ever survey puts po...   \n",
       "..                                                 ...   \n",
       "240  Sprinklers to cool Victoria’s largest permanen...   \n",
       "241  Wild tiger numbers 40% higher than thought, sa...   \n",
       "242  Global Tiger Numbers 40 Percent Higher Than Pr...   \n",
       "243  Five wolf pups photographed in Oregon could re...   \n",
       "244  Montana governor kills mountain lion being mon...   \n",
       "\n",
       "                                                  link           author  \\\n",
       "0    /r/Wildlife/comments/1b2u5rb/critically_endang...    OpenEnded4802   \n",
       "1    /r/Wildlife/comments/1asa66q/death_toll_rises_...     n1ght_w1ng08   \n",
       "2    /r/Wildlife/comments/1ap2h69/the_romance_at_na...    KUHL_Clothing   \n",
       "3    /r/Wildlife/comments/1almxqq/capturing_the_bea...        Damanjain   \n",
       "4    /r/Wildlife/comments/1afgfry/india_snow_leopar...     n1ght_w1ng08   \n",
       "..                                                 ...              ...   \n",
       "240  /r/Wildlife/comments/w7ju86/sprinklers_to_cool...  bigbongtheory69   \n",
       "241  /r/Wildlife/comments/w55cyt/wild_tiger_numbers...  bigbongtheory69   \n",
       "242  /r/Wildlife/comments/w5gg4e/global_tiger_numbe...         YaleE360   \n",
       "243  /r/Wildlife/comments/w592lf/five_wolf_pups_pho...         zsreport   \n",
       "244  /r/Wildlife/comments/t5eho5/montana_governor_k...         zsreport   \n",
       "\n",
       "     n_comments  score text  \n",
       "0             2     12       \n",
       "1             0      6       \n",
       "2             1     10       \n",
       "3             0     10       \n",
       "4             1     20       \n",
       "..          ...    ...  ...  \n",
       "240           1     43       \n",
       "241           2    148       \n",
       "242           3     20       \n",
       "243           0      4       \n",
       "244         121    332       \n",
       "\n",
       "[245 rows x 6 columns]"
      ]
     },
     "execution_count": 7,
     "metadata": {},
     "output_type": "execute_result"
    }
   ],
   "source": [
    "co_df"
   ]
  },
  {
   "cell_type": "markdown",
   "id": "dc12799c",
   "metadata": {},
   "source": [
    "With the help of Reddit's API using the PRAW library and it fetches the top 10 hot posts from the 'wildlife' subreddit. Then iterates through each post, printing its title and score. The code attempts to convert the subreddit instance into a list, which will fail due to Reddit's API behavior. It accesses attributes of a single post, such as its score, title, and permalink. Finally, it constructs a DataFrame from the Reddit data. This DataFrame likely contains information about the posts, such as titles, scores, and other relevant metadata, organized for further analysis or visualization using the pandas library."
   ]
  },
  {
   "cell_type": "markdown",
   "id": "10afa029",
   "metadata": {},
   "source": [
    "### Saved the data to a SQLite3 database"
   ]
  },
  {
   "cell_type": "code",
   "execution_count": 8,
   "id": "50ab8c1e",
   "metadata": {},
   "outputs": [
    {
     "data": {
      "text/plain": [
       "245"
      ]
     },
     "execution_count": 8,
     "metadata": {},
     "output_type": "execute_result"
    }
   ],
   "source": [
    "import sqlite3\n",
    "\n",
    "con = sqlite3.connect(\"co_reddit.sqlite\")\n",
    "co_df.to_sql('posts', con, if_exists='replace', index=False)"
   ]
  },
  {
   "cell_type": "code",
   "execution_count": 9,
   "id": "a7c8b377",
   "metadata": {},
   "outputs": [
    {
     "data": {
      "text/html": [
       "<div>\n",
       "<style scoped>\n",
       "    .dataframe tbody tr th:only-of-type {\n",
       "        vertical-align: middle;\n",
       "    }\n",
       "\n",
       "    .dataframe tbody tr th {\n",
       "        vertical-align: top;\n",
       "    }\n",
       "\n",
       "    .dataframe thead th {\n",
       "        text-align: right;\n",
       "    }\n",
       "</style>\n",
       "<table border=\"1\" class=\"dataframe\">\n",
       "  <thead>\n",
       "    <tr style=\"text-align: right;\">\n",
       "      <th></th>\n",
       "      <th>title</th>\n",
       "      <th>link</th>\n",
       "      <th>author</th>\n",
       "      <th>n_comments</th>\n",
       "      <th>score</th>\n",
       "      <th>text</th>\n",
       "    </tr>\n",
       "  </thead>\n",
       "  <tbody>\n",
       "    <tr>\n",
       "      <th>0</th>\n",
       "      <td>Critically endangered Right Whales are shrinki...</td>\n",
       "      <td>/r/Wildlife/comments/1b2u5rb/critically_endang...</td>\n",
       "      <td>OpenEnded4802</td>\n",
       "      <td>2</td>\n",
       "      <td>12</td>\n",
       "      <td></td>\n",
       "    </tr>\n",
       "    <tr>\n",
       "      <th>1</th>\n",
       "      <td>Death toll rises to seven in Malawi elephant r...</td>\n",
       "      <td>/r/Wildlife/comments/1asa66q/death_toll_rises_...</td>\n",
       "      <td>n1ght_w1ng08</td>\n",
       "      <td>0</td>\n",
       "      <td>6</td>\n",
       "      <td></td>\n",
       "    </tr>\n",
       "    <tr>\n",
       "      <th>2</th>\n",
       "      <td>The Romance at Navajo Bridge - Two Critically ...</td>\n",
       "      <td>/r/Wildlife/comments/1ap2h69/the_romance_at_na...</td>\n",
       "      <td>KUHL_Clothing</td>\n",
       "      <td>1</td>\n",
       "      <td>10</td>\n",
       "      <td></td>\n",
       "    </tr>\n",
       "    <tr>\n",
       "      <th>3</th>\n",
       "      <td>Capturing the Beauty of Wildlife: Sleeping Pol...</td>\n",
       "      <td>/r/Wildlife/comments/1almxqq/capturing_the_bea...</td>\n",
       "      <td>Damanjain</td>\n",
       "      <td>0</td>\n",
       "      <td>10</td>\n",
       "      <td></td>\n",
       "    </tr>\n",
       "    <tr>\n",
       "      <th>4</th>\n",
       "      <td>India snow leopards: First-ever survey puts po...</td>\n",
       "      <td>/r/Wildlife/comments/1afgfry/india_snow_leopar...</td>\n",
       "      <td>n1ght_w1ng08</td>\n",
       "      <td>1</td>\n",
       "      <td>20</td>\n",
       "      <td></td>\n",
       "    </tr>\n",
       "    <tr>\n",
       "      <th>...</th>\n",
       "      <td>...</td>\n",
       "      <td>...</td>\n",
       "      <td>...</td>\n",
       "      <td>...</td>\n",
       "      <td>...</td>\n",
       "      <td>...</td>\n",
       "    </tr>\n",
       "    <tr>\n",
       "      <th>240</th>\n",
       "      <td>Sprinklers to cool Victoria’s largest permanen...</td>\n",
       "      <td>/r/Wildlife/comments/w7ju86/sprinklers_to_cool...</td>\n",
       "      <td>bigbongtheory69</td>\n",
       "      <td>1</td>\n",
       "      <td>43</td>\n",
       "      <td></td>\n",
       "    </tr>\n",
       "    <tr>\n",
       "      <th>241</th>\n",
       "      <td>Wild tiger numbers 40% higher than thought, sa...</td>\n",
       "      <td>/r/Wildlife/comments/w55cyt/wild_tiger_numbers...</td>\n",
       "      <td>bigbongtheory69</td>\n",
       "      <td>2</td>\n",
       "      <td>148</td>\n",
       "      <td></td>\n",
       "    </tr>\n",
       "    <tr>\n",
       "      <th>242</th>\n",
       "      <td>Global Tiger Numbers 40 Percent Higher Than Pr...</td>\n",
       "      <td>/r/Wildlife/comments/w5gg4e/global_tiger_numbe...</td>\n",
       "      <td>YaleE360</td>\n",
       "      <td>3</td>\n",
       "      <td>20</td>\n",
       "      <td></td>\n",
       "    </tr>\n",
       "    <tr>\n",
       "      <th>243</th>\n",
       "      <td>Five wolf pups photographed in Oregon could re...</td>\n",
       "      <td>/r/Wildlife/comments/w592lf/five_wolf_pups_pho...</td>\n",
       "      <td>zsreport</td>\n",
       "      <td>0</td>\n",
       "      <td>4</td>\n",
       "      <td></td>\n",
       "    </tr>\n",
       "    <tr>\n",
       "      <th>244</th>\n",
       "      <td>Montana governor kills mountain lion being mon...</td>\n",
       "      <td>/r/Wildlife/comments/t5eho5/montana_governor_k...</td>\n",
       "      <td>zsreport</td>\n",
       "      <td>121</td>\n",
       "      <td>332</td>\n",
       "      <td></td>\n",
       "    </tr>\n",
       "  </tbody>\n",
       "</table>\n",
       "<p>245 rows × 6 columns</p>\n",
       "</div>"
      ],
      "text/plain": [
       "                                                 title  \\\n",
       "0    Critically endangered Right Whales are shrinki...   \n",
       "1    Death toll rises to seven in Malawi elephant r...   \n",
       "2    The Romance at Navajo Bridge - Two Critically ...   \n",
       "3    Capturing the Beauty of Wildlife: Sleeping Pol...   \n",
       "4    India snow leopards: First-ever survey puts po...   \n",
       "..                                                 ...   \n",
       "240  Sprinklers to cool Victoria’s largest permanen...   \n",
       "241  Wild tiger numbers 40% higher than thought, sa...   \n",
       "242  Global Tiger Numbers 40 Percent Higher Than Pr...   \n",
       "243  Five wolf pups photographed in Oregon could re...   \n",
       "244  Montana governor kills mountain lion being mon...   \n",
       "\n",
       "                                                  link           author  \\\n",
       "0    /r/Wildlife/comments/1b2u5rb/critically_endang...    OpenEnded4802   \n",
       "1    /r/Wildlife/comments/1asa66q/death_toll_rises_...     n1ght_w1ng08   \n",
       "2    /r/Wildlife/comments/1ap2h69/the_romance_at_na...    KUHL_Clothing   \n",
       "3    /r/Wildlife/comments/1almxqq/capturing_the_bea...        Damanjain   \n",
       "4    /r/Wildlife/comments/1afgfry/india_snow_leopar...     n1ght_w1ng08   \n",
       "..                                                 ...              ...   \n",
       "240  /r/Wildlife/comments/w7ju86/sprinklers_to_cool...  bigbongtheory69   \n",
       "241  /r/Wildlife/comments/w55cyt/wild_tiger_numbers...  bigbongtheory69   \n",
       "242  /r/Wildlife/comments/w5gg4e/global_tiger_numbe...         YaleE360   \n",
       "243  /r/Wildlife/comments/w592lf/five_wolf_pups_pho...         zsreport   \n",
       "244  /r/Wildlife/comments/t5eho5/montana_governor_k...         zsreport   \n",
       "\n",
       "     n_comments  score text  \n",
       "0             2     12       \n",
       "1             0      6       \n",
       "2             1     10       \n",
       "3             0     10       \n",
       "4             1     20       \n",
       "..          ...    ...  ...  \n",
       "240           1     43       \n",
       "241           2    148       \n",
       "242           3     20       \n",
       "243           0      4       \n",
       "244         121    332       \n",
       "\n",
       "[245 rows x 6 columns]"
      ]
     },
     "execution_count": 9,
     "metadata": {},
     "output_type": "execute_result"
    }
   ],
   "source": [
    "co_df_check = pd.read_sql_query('SELECT * FROM posts;', con)\n",
    "con.close()\n",
    "co_df_check"
   ]
  },
  {
   "cell_type": "markdown",
   "id": "d3307d98",
   "metadata": {},
   "source": [
    "The above code establishes a connection to a SQLite database named \"co_reddit.sqlite\" and saves the DataFrame \"co_df\" as a table named \"posts\" and then reads the data from the \"posts\" table into a new DataFrame \"co_df_check\", verifying the data integrity. Finally, it closes the database connection."
   ]
  },
  {
   "cell_type": "markdown",
   "id": "1fb7811d",
   "metadata": {},
   "source": [
    "### Plotted basic EDA on the data"
   ]
  },
  {
   "cell_type": "code",
   "execution_count": 10,
   "id": "815f93b0",
   "metadata": {},
   "outputs": [
    {
     "data": {
      "text/plain": [
       "<AxesSubplot: ylabel='Frequency'>"
      ]
     },
     "execution_count": 10,
     "metadata": {},
     "output_type": "execute_result"
    },
    {
     "data": {
      "image/png": "[encoded data removed]",
      "text/plain": [
       "<Figure size 640x480 with 1 Axes>"
      ]
     },
     "metadata": {},
     "output_type": "display_data"
    }
   ],
   "source": [
    "co_df['score'].plot.hist(bins=30)"
   ]
  },
  {
   "cell_type": "markdown",
   "id": "a2a85ec9",
   "metadata": {},
   "source": [
    "I generated a histogram plot of the 'score' column from the DataFrame \"co_df\", using 30 bins to display the distribution of scores."
   ]
  },
  {
   "cell_type": "markdown",
   "id": "a64bae9e",
   "metadata": {},
   "source": [
    "This code filters rows in \"co_df\" where the 'score' column is greater than 2000, then extracts the 'link' column values into a list.\n"
   ]
  },
  {
   "cell_type": "code",
   "execution_count": 11,
   "id": "fd8075bf",
   "metadata": {},
   "outputs": [
    {
     "data": {
      "text/plain": [
       "<AxesSubplot: >"
      ]
     },
     "execution_count": 11,
     "metadata": {},
     "output_type": "execute_result"
    },
    {
     "data": {
      "image/png": "[encoded data removed]",
      "text/plain": [
       "<Figure size 640x480 with 1 Axes>"
      ]
     },
     "metadata": {},
     "output_type": "display_data"
    }
   ],
   "source": [
    "co_df.boxplot('n_comments')"
   ]
  },
  {
   "cell_type": "markdown",
   "id": "c51aa71f",
   "metadata": {},
   "source": [
    "I created a boxplot to visualize the distribution of the 'n_comments' column in the DataFrame \"co_df\", displaying key statistical measures such as median, quartiles, and outliers."
   ]
  },
  {
   "cell_type": "code",
   "execution_count": 12,
   "id": "1ef2bf94",
   "metadata": {},
   "outputs": [
    {
     "data": {
      "text/plain": [
       "<AxesSubplot: >"
      ]
     },
     "execution_count": 12,
     "metadata": {},
     "output_type": "execute_result"
    },
    {
     "data": {
      "image/png": "[encoded data removed]",
      "text/plain": [
       "<Figure size 640x480 with 1 Axes>"
      ]
     },
     "metadata": {},
     "output_type": "display_data"
    }
   ],
   "source": [
    "import matplotlib.pyplot as plt\n",
    "co_df.boxplot('n_comments')\n"
   ]
  },
  {
   "cell_type": "markdown",
   "id": "2aeb0ecb",
   "metadata": {},
   "source": [
    "I generated a boxplot for the 'n_comments' column in the DataFrame \"co_df\" using matplotlib. It applies a logarithmic scale to the y-axis for better visualization."
   ]
  },
  {
   "cell_type": "code",
   "execution_count": 13,
   "id": "c7c53d76",
   "metadata": {},
   "outputs": [
    {
     "data": {
      "text/plain": [
       "<AxesSubplot: xlabel='score', ylabel='n_comments'>"
      ]
     },
     "execution_count": 13,
     "metadata": {},
     "output_type": "execute_result"
    },
    {
     "data": {
      "image/png": "[encoded data removed]",
      "text/plain": [
       "<Figure size 640x480 with 1 Axes>"
      ]
     },
     "metadata": {},
     "output_type": "display_data"
    }
   ],
   "source": [
    "co_df.plot.scatter(x='score', y='n_comments')"
   ]
  },
  {
   "cell_type": "markdown",
   "id": "5cf186bd",
   "metadata": {},
   "source": [
    "I created a scatter plot to visualize the relationship between the 'score' and 'n_comments' columns in the DataFrame \"co_df\", with 'score' on the x-axis and 'n_comments' on the y-axis."
   ]
  },
  {
   "cell_type": "code",
   "execution_count": 14,
   "id": "b1bd42e3",
   "metadata": {},
   "outputs": [
    {
     "data": {
      "text/plain": [
       "<AxesSubplot: >"
      ]
     },
     "execution_count": 14,
     "metadata": {},
     "output_type": "execute_result"
    },
    {
     "data": {
      "image/png": "[encoded data removed]",
      "text/plain": [
       "<Figure size 640x480 with 1 Axes>"
      ]
     },
     "metadata": {},
     "output_type": "display_data"
    }
   ],
   "source": [
    "co_df['author'].value_counts()[:10].plot.bar()"
   ]
  },
  {
   "cell_type": "markdown",
   "id": "a6f9f43f",
   "metadata": {},
   "source": [
    "I plotted a bar chart showing the top 10 most frequent authors in the DataFrame \"co_df\", based on the count of their occurrences in the 'author' column."
   ]
  },
  {
   "cell_type": "code",
   "execution_count": 15,
   "id": "4341ffbd",
   "metadata": {
    "scrolled": true
   },
   "outputs": [
    {
     "data": {
      "text/html": [
       "<div>\n",
       "<style scoped>\n",
       "    .dataframe tbody tr th:only-of-type {\n",
       "        vertical-align: middle;\n",
       "    }\n",
       "\n",
       "    .dataframe tbody tr th {\n",
       "        vertical-align: top;\n",
       "    }\n",
       "\n",
       "    .dataframe thead th {\n",
       "        text-align: right;\n",
       "    }\n",
       "</style>\n",
       "<table border=\"1\" class=\"dataframe\">\n",
       "  <thead>\n",
       "    <tr style=\"text-align: right;\">\n",
       "      <th></th>\n",
       "      <th>title</th>\n",
       "      <th>link</th>\n",
       "      <th>author</th>\n",
       "      <th>n_comments</th>\n",
       "      <th>score</th>\n",
       "      <th>text</th>\n",
       "    </tr>\n",
       "  </thead>\n",
       "  <tbody>\n",
       "    <tr>\n",
       "      <th>189</th>\n",
       "      <td>India reintroduces cheetahs to wild after big ...</td>\n",
       "      <td>/r/Wildlife/comments/xghfx4/india_reintroduces...</td>\n",
       "      <td>bigbongtheory69</td>\n",
       "      <td>5</td>\n",
       "      <td>78</td>\n",
       "      <td></td>\n",
       "    </tr>\n",
       "    <tr>\n",
       "      <th>193</th>\n",
       "      <td>Discovered in the deep: the crustacean with ey...</td>\n",
       "      <td>/r/Wildlife/comments/xdymwe/discovered_in_the_...</td>\n",
       "      <td>bigbongtheory69</td>\n",
       "      <td>1</td>\n",
       "      <td>19</td>\n",
       "      <td></td>\n",
       "    </tr>\n",
       "    <tr>\n",
       "      <th>194</th>\n",
       "      <td>Pine marten spotted in London for first time i...</td>\n",
       "      <td>/r/Wildlife/comments/x95srl/pine_marten_spotte...</td>\n",
       "      <td>bigbongtheory69</td>\n",
       "      <td>9</td>\n",
       "      <td>128</td>\n",
       "      <td></td>\n",
       "    </tr>\n",
       "    <tr>\n",
       "      <th>196</th>\n",
       "      <td>Discovered in the deep: the ‘Elvis worms’ that...</td>\n",
       "      <td>/r/Wildlife/comments/x7znas/discovered_in_the_...</td>\n",
       "      <td>bigbongtheory69</td>\n",
       "      <td>1</td>\n",
       "      <td>13</td>\n",
       "      <td></td>\n",
       "    </tr>\n",
       "    <tr>\n",
       "      <th>199</th>\n",
       "      <td>Discovered in the deep: the incredible fish wi...</td>\n",
       "      <td>/r/Wildlife/comments/x285zz/discovered_in_the_...</td>\n",
       "      <td>bigbongtheory69</td>\n",
       "      <td>3</td>\n",
       "      <td>49</td>\n",
       "      <td></td>\n",
       "    </tr>\n",
       "    <tr>\n",
       "      <th>203</th>\n",
       "      <td>Giant panda gives birth to twin cubs in China ...</td>\n",
       "      <td>/r/Wildlife/comments/wwincs/giant_panda_gives_...</td>\n",
       "      <td>bigbongtheory69</td>\n",
       "      <td>2</td>\n",
       "      <td>39</td>\n",
       "      <td></td>\n",
       "    </tr>\n",
       "    <tr>\n",
       "      <th>204</th>\n",
       "      <td>Bird flu has killed 700 wild black vultures, s...</td>\n",
       "      <td>/r/Wildlife/comments/ww9i4f/bird_flu_has_kille...</td>\n",
       "      <td>bigbongtheory69</td>\n",
       "      <td>1</td>\n",
       "      <td>51</td>\n",
       "      <td></td>\n",
       "    </tr>\n",
       "    <tr>\n",
       "      <th>213</th>\n",
       "      <td>Mine-hunting dolphins filmed hunting and eatin...</td>\n",
       "      <td>/r/Wildlife/comments/wrnkul/minehunting_dolphi...</td>\n",
       "      <td>bigbongtheory69</td>\n",
       "      <td>2</td>\n",
       "      <td>20</td>\n",
       "      <td></td>\n",
       "    </tr>\n",
       "    <tr>\n",
       "      <th>215</th>\n",
       "      <td>Discovered in the deep: the mini cities of hai...</td>\n",
       "      <td>/r/Wildlife/comments/wpp05u/discovered_in_the_...</td>\n",
       "      <td>bigbongtheory69</td>\n",
       "      <td>1</td>\n",
       "      <td>19</td>\n",
       "      <td></td>\n",
       "    </tr>\n",
       "    <tr>\n",
       "      <th>217</th>\n",
       "      <td>Death's-head hawk moths are able to fly perfec...</td>\n",
       "      <td>/r/Wildlife/comments/wmhewe/deathshead_hawk_mo...</td>\n",
       "      <td>bigbongtheory69</td>\n",
       "      <td>2</td>\n",
       "      <td>50</td>\n",
       "      <td></td>\n",
       "    </tr>\n",
       "    <tr>\n",
       "      <th>219</th>\n",
       "      <td>CSIRO researchers identify 139 new species, in...</td>\n",
       "      <td>/r/Wildlife/comments/wjxbmp/csiro_researchers_...</td>\n",
       "      <td>bigbongtheory69</td>\n",
       "      <td>2</td>\n",
       "      <td>33</td>\n",
       "      <td></td>\n",
       "    </tr>\n",
       "    <tr>\n",
       "      <th>220</th>\n",
       "      <td>Discovered in the deep: meet Casper the ghostl...</td>\n",
       "      <td>/r/Wildlife/comments/wj3ng1/discovered_in_the_...</td>\n",
       "      <td>bigbongtheory69</td>\n",
       "      <td>1</td>\n",
       "      <td>26</td>\n",
       "      <td></td>\n",
       "    </tr>\n",
       "    <tr>\n",
       "      <th>222</th>\n",
       "      <td>Spider crabs swarm in shallow waters on Cornis...</td>\n",
       "      <td>/r/Wildlife/comments/wianl6/spider_crabs_swarm...</td>\n",
       "      <td>bigbongtheory69</td>\n",
       "      <td>1</td>\n",
       "      <td>2</td>\n",
       "      <td></td>\n",
       "    </tr>\n",
       "    <tr>\n",
       "      <th>224</th>\n",
       "      <td>Baby boom rejuvenates endangered gibbon family...</td>\n",
       "      <td>/r/Wildlife/comments/wgq3ng/baby_boom_rejuvena...</td>\n",
       "      <td>bigbongtheory69</td>\n",
       "      <td>1</td>\n",
       "      <td>34</td>\n",
       "      <td></td>\n",
       "    </tr>\n",
       "    <tr>\n",
       "      <th>225</th>\n",
       "      <td>The week in wildlife – in pictures | Environment</td>\n",
       "      <td>/r/Wildlife/comments/wgsqom/the_week_in_wildli...</td>\n",
       "      <td>bigbongtheory69</td>\n",
       "      <td>0</td>\n",
       "      <td>11</td>\n",
       "      <td></td>\n",
       "    </tr>\n",
       "    <tr>\n",
       "      <th>226</th>\n",
       "      <td>Rare coloured sea slug spotted in British wate...</td>\n",
       "      <td>/r/Wildlife/comments/wg2uky/rare_coloured_sea_...</td>\n",
       "      <td>bigbongtheory69</td>\n",
       "      <td>1</td>\n",
       "      <td>16</td>\n",
       "      <td></td>\n",
       "    </tr>\n",
       "    <tr>\n",
       "      <th>228</th>\n",
       "      <td>'Are you sitting down?': Scientist believes je...</td>\n",
       "      <td>/r/Wildlife/comments/wfcbpj/are_you_sitting_do...</td>\n",
       "      <td>bigbongtheory69</td>\n",
       "      <td>8</td>\n",
       "      <td>84</td>\n",
       "      <td></td>\n",
       "    </tr>\n",
       "    <tr>\n",
       "      <th>230</th>\n",
       "      <td>How did the brush turkey cross Sydney Harbour?...</td>\n",
       "      <td>/r/Wildlife/comments/wfcvn5/how_did_the_brush_...</td>\n",
       "      <td>bigbongtheory69</td>\n",
       "      <td>1</td>\n",
       "      <td>2</td>\n",
       "      <td></td>\n",
       "    </tr>\n",
       "    <tr>\n",
       "      <th>231</th>\n",
       "      <td>A Galapagos island is teeming with baby iguana...</td>\n",
       "      <td>/r/Wildlife/comments/wec4df/a_galapagos_island...</td>\n",
       "      <td>bigbongtheory69</td>\n",
       "      <td>1</td>\n",
       "      <td>102</td>\n",
       "      <td></td>\n",
       "    </tr>\n",
       "    <tr>\n",
       "      <th>232</th>\n",
       "      <td>Call for hippos to join list of world’s most e...</td>\n",
       "      <td>/r/Wildlife/comments/we5a2q/call_for_hippos_to...</td>\n",
       "      <td>bigbongtheory69</td>\n",
       "      <td>2</td>\n",
       "      <td>16</td>\n",
       "      <td></td>\n",
       "    </tr>\n",
       "    <tr>\n",
       "      <th>233</th>\n",
       "      <td>Bird smuggler turned gamekeeper: the man shini...</td>\n",
       "      <td>/r/Wildlife/comments/wdlice/bird_smuggler_turn...</td>\n",
       "      <td>bigbongtheory69</td>\n",
       "      <td>1</td>\n",
       "      <td>43</td>\n",
       "      <td></td>\n",
       "    </tr>\n",
       "    <tr>\n",
       "      <th>236</th>\n",
       "      <td>‘Kingdom of the ant’: northern Australia boast...</td>\n",
       "      <td>/r/Wildlife/comments/wchevf/kingdom_of_the_ant...</td>\n",
       "      <td>bigbongtheory69</td>\n",
       "      <td>1</td>\n",
       "      <td>5</td>\n",
       "      <td></td>\n",
       "    </tr>\n",
       "    <tr>\n",
       "      <th>239</th>\n",
       "      <td>Shark Bay dolphins forming 'boy bands' in a mu...</td>\n",
       "      <td>/r/Wildlife/comments/wa79ho/shark_bay_dolphins...</td>\n",
       "      <td>bigbongtheory69</td>\n",
       "      <td>1</td>\n",
       "      <td>38</td>\n",
       "      <td></td>\n",
       "    </tr>\n",
       "    <tr>\n",
       "      <th>240</th>\n",
       "      <td>Sprinklers to cool Victoria’s largest permanen...</td>\n",
       "      <td>/r/Wildlife/comments/w7ju86/sprinklers_to_cool...</td>\n",
       "      <td>bigbongtheory69</td>\n",
       "      <td>1</td>\n",
       "      <td>43</td>\n",
       "      <td></td>\n",
       "    </tr>\n",
       "    <tr>\n",
       "      <th>241</th>\n",
       "      <td>Wild tiger numbers 40% higher than thought, sa...</td>\n",
       "      <td>/r/Wildlife/comments/w55cyt/wild_tiger_numbers...</td>\n",
       "      <td>bigbongtheory69</td>\n",
       "      <td>2</td>\n",
       "      <td>148</td>\n",
       "      <td></td>\n",
       "    </tr>\n",
       "  </tbody>\n",
       "</table>\n",
       "</div>"
      ],
      "text/plain": [
       "                                                 title  \\\n",
       "189  India reintroduces cheetahs to wild after big ...   \n",
       "193  Discovered in the deep: the crustacean with ey...   \n",
       "194  Pine marten spotted in London for first time i...   \n",
       "196  Discovered in the deep: the ‘Elvis worms’ that...   \n",
       "199  Discovered in the deep: the incredible fish wi...   \n",
       "203  Giant panda gives birth to twin cubs in China ...   \n",
       "204  Bird flu has killed 700 wild black vultures, s...   \n",
       "213  Mine-hunting dolphins filmed hunting and eatin...   \n",
       "215  Discovered in the deep: the mini cities of hai...   \n",
       "217  Death's-head hawk moths are able to fly perfec...   \n",
       "219  CSIRO researchers identify 139 new species, in...   \n",
       "220  Discovered in the deep: meet Casper the ghostl...   \n",
       "222  Spider crabs swarm in shallow waters on Cornis...   \n",
       "224  Baby boom rejuvenates endangered gibbon family...   \n",
       "225   The week in wildlife – in pictures | Environment   \n",
       "226  Rare coloured sea slug spotted in British wate...   \n",
       "228  'Are you sitting down?': Scientist believes je...   \n",
       "230  How did the brush turkey cross Sydney Harbour?...   \n",
       "231  A Galapagos island is teeming with baby iguana...   \n",
       "232  Call for hippos to join list of world’s most e...   \n",
       "233  Bird smuggler turned gamekeeper: the man shini...   \n",
       "236  ‘Kingdom of the ant’: northern Australia boast...   \n",
       "239  Shark Bay dolphins forming 'boy bands' in a mu...   \n",
       "240  Sprinklers to cool Victoria’s largest permanen...   \n",
       "241  Wild tiger numbers 40% higher than thought, sa...   \n",
       "\n",
       "                                                  link           author  \\\n",
       "189  /r/Wildlife/comments/xghfx4/india_reintroduces...  bigbongtheory69   \n",
       "193  /r/Wildlife/comments/xdymwe/discovered_in_the_...  bigbongtheory69   \n",
       "194  /r/Wildlife/comments/x95srl/pine_marten_spotte...  bigbongtheory69   \n",
       "196  /r/Wildlife/comments/x7znas/discovered_in_the_...  bigbongtheory69   \n",
       "199  /r/Wildlife/comments/x285zz/discovered_in_the_...  bigbongtheory69   \n",
       "203  /r/Wildlife/comments/wwincs/giant_panda_gives_...  bigbongtheory69   \n",
       "204  /r/Wildlife/comments/ww9i4f/bird_flu_has_kille...  bigbongtheory69   \n",
       "213  /r/Wildlife/comments/wrnkul/minehunting_dolphi...  bigbongtheory69   \n",
       "215  /r/Wildlife/comments/wpp05u/discovered_in_the_...  bigbongtheory69   \n",
       "217  /r/Wildlife/comments/wmhewe/deathshead_hawk_mo...  bigbongtheory69   \n",
       "219  /r/Wildlife/comments/wjxbmp/csiro_researchers_...  bigbongtheory69   \n",
       "220  /r/Wildlife/comments/wj3ng1/discovered_in_the_...  bigbongtheory69   \n",
       "222  /r/Wildlife/comments/wianl6/spider_crabs_swarm...  bigbongtheory69   \n",
       "224  /r/Wildlife/comments/wgq3ng/baby_boom_rejuvena...  bigbongtheory69   \n",
       "225  /r/Wildlife/comments/wgsqom/the_week_in_wildli...  bigbongtheory69   \n",
       "226  /r/Wildlife/comments/wg2uky/rare_coloured_sea_...  bigbongtheory69   \n",
       "228  /r/Wildlife/comments/wfcbpj/are_you_sitting_do...  bigbongtheory69   \n",
       "230  /r/Wildlife/comments/wfcvn5/how_did_the_brush_...  bigbongtheory69   \n",
       "231  /r/Wildlife/comments/wec4df/a_galapagos_island...  bigbongtheory69   \n",
       "232  /r/Wildlife/comments/we5a2q/call_for_hippos_to...  bigbongtheory69   \n",
       "233  /r/Wildlife/comments/wdlice/bird_smuggler_turn...  bigbongtheory69   \n",
       "236  /r/Wildlife/comments/wchevf/kingdom_of_the_ant...  bigbongtheory69   \n",
       "239  /r/Wildlife/comments/wa79ho/shark_bay_dolphins...  bigbongtheory69   \n",
       "240  /r/Wildlife/comments/w7ju86/sprinklers_to_cool...  bigbongtheory69   \n",
       "241  /r/Wildlife/comments/w55cyt/wild_tiger_numbers...  bigbongtheory69   \n",
       "\n",
       "     n_comments  score text  \n",
       "189           5     78       \n",
       "193           1     19       \n",
       "194           9    128       \n",
       "196           1     13       \n",
       "199           3     49       \n",
       "203           2     39       \n",
       "204           1     51       \n",
       "213           2     20       \n",
       "215           1     19       \n",
       "217           2     50       \n",
       "219           2     33       \n",
       "220           1     26       \n",
       "222           1      2       \n",
       "224           1     34       \n",
       "225           0     11       \n",
       "226           1     16       \n",
       "228           8     84       \n",
       "230           1      2       \n",
       "231           1    102       \n",
       "232           2     16       \n",
       "233           1     43       \n",
       "236           1      5       \n",
       "239           1     38       \n",
       "240           1     43       \n",
       "241           2    148       "
      ]
     },
     "execution_count": 15,
     "metadata": {},
     "output_type": "execute_result"
    }
   ],
   "source": [
    "co_df[co_df['author'] == 'bigbongtheory69']"
   ]
  },
  {
   "cell_type": "markdown",
   "id": "7b133768",
   "metadata": {},
   "source": [
    "I filtered the DataFrame \"co_df\" to retrieve rows where the value in the \"author\" column is specifically \"Knightbear49\"."
   ]
  },
  {
   "cell_type": "markdown",
   "id": "36c3f169",
   "metadata": {},
   "source": [
    "### Summary"
   ]
  },
  {
   "cell_type": "markdown",
   "id": "319ce455",
   "metadata": {},
   "source": [
    "The above code gets information from the 'wildlife' section on Reddit using a tool called PRAW. It needs other tools like pandas to organize the data, credentials to keep login details safe, matplotlib to make graphs, and sqlite3 to work with a database.\n",
    "\n",
    "First, it connects to Reddit using the login details provided. Then, it grabs the top 10 popular posts from the 'wildlife' section and shows their titles and scores.\n",
    "\n",
    "Next, it sets up a special storage place (like a list) called 'reddit_data' to hold details about each post, like the title, link, who posted it, number of comments, score, and any text the post has.\n",
    "\n",
    "The code goes through all the posts in the 'wildlife' section and collects this information into the 'reddit_data' list. It's careful to handle cases where it can't find who posted a post, so it doesn't cause any problems.\n",
    "\n",
    "Once all the information is collected, it's put into a neat table using pandas, which makes it easier to understand and work with.\n",
    "\n",
    "Then, it connects to a database, sort of like a digital file cabinet, named 'co_reddit.sqlite'. It stores the table of post information there. If the file already has a table with the same name, it replaces it with the new data.\n",
    "\n",
    "To make sure the data was saved correctly, it reads the data back from the file into another table called 'co_df_check'.\n",
    "\n",
    "After that, it makes some pictures (graphs) to help understand the data better:\n",
    "1. A picture showing how popular the posts are (a histogram).\n",
    "2. A picture showing how many comments each post got (a box plot).\n",
    "3. A picture showing if popular posts get more comments (a scatter plot).\n",
    "4. A picture showing who posts the most (a bar plot of the top 10 posters).\n",
    "\n",
    "By looking at the pictures and data, we can learn about important issues like endangered animals, conservation efforts, and interesting facts about wildlife. This helps people who care about animals stay updated and understand what's happening in the wildlife community."
   ]
  }
 ],
 "metadata": {
  "kernelspec": {
   "display_name": "Python 3 (ipykernel)",
   "language": "python",
   "name": "python3"
  },
  "language_info": {
   "codemirror_mode": {
    "name": "ipython",
    "version": 3
   },
   "file_extension": ".py",
   "mimetype": "text/x-python",
   "name": "python",
   "nbconvert_exporter": "python",
   "pygments_lexer": "ipython3",
   "version": "3.11.5"
  }
 },
 "nbformat": 4,
 "nbformat_minor": 5
}
